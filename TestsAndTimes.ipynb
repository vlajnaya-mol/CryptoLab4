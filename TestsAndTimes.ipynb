{
 "cells": [
  {
   "cell_type": "code",
   "execution_count": 1,
   "metadata": {},
   "outputs": [],
   "source": [
    "import random\n",
    "import gmpy2\n",
    "import math\n",
    "import time\n",
    "import os\n",
    "import hashlib\n",
    "import numpy\n",
    "from tabulate import tabulate\n",
    "\n",
    "from RSA import RSA\n",
    "from RSA_OAEP import RSA_OAEP\n",
    "from MillerRabin import miller_rabin"
   ]
  },
  {
   "cell_type": "markdown",
   "metadata": {},
   "source": [
    "### Test Miller Rabin"
   ]
  },
  {
   "cell_type": "code",
   "execution_count": 2,
   "metadata": {},
   "outputs": [],
   "source": [
    "for _ in range(1000):\n",
    "    n = random.randint(100, 100000)\n",
    "    assert gmpy2.is_strong_prp(n, 7) == miller_rabin(n, 7), n"
   ]
  },
  {
   "cell_type": "markdown",
   "metadata": {},
   "source": [
    "### Test RSA"
   ]
  },
  {
   "cell_type": "code",
   "execution_count": 3,
   "metadata": {},
   "outputs": [
    {
     "name": "stdout",
     "output_type": "stream",
     "text": [
      "0\n",
      "10\n",
      "20\n",
      "30\n",
      "40\n",
      "50\n",
      "60\n",
      "70\n",
      "80\n",
      "90\n"
     ]
    }
   ],
   "source": [
    "for i in range(100):\n",
    "    if i % 10 == 0:\n",
    "        print(i)\n",
    "    rsa = RSA(random.choice([256, 320, 512]))\n",
    "    \n",
    "    m = random.randint(2, 2**100)\n",
    "    pbk, sk = rsa.gen_key()\n",
    "    c = rsa.encrypt(m, pbk)\n",
    "\n",
    "    assert m == rsa.decrypt(c, sk), \"RSA not working! :C)\""
   ]
  },
  {
   "cell_type": "markdown",
   "metadata": {},
   "source": [
    "### Test RSA-OAEP"
   ]
  },
  {
   "cell_type": "code",
   "execution_count": 5,
   "metadata": {},
   "outputs": [
    {
     "name": "stdout",
     "output_type": "stream",
     "text": [
      "0\n",
      "10\n",
      "20\n",
      "30\n",
      "40\n",
      "50\n",
      "60\n",
      "70\n",
      "80\n",
      "90\n"
     ]
    }
   ],
   "source": [
    "for i in range(100):\n",
    "    if i % 10 == 0:\n",
    "        print(i)\n",
    "    n_bits = random.choice([256, 320, 512])\n",
    "    m_bits = random.choice([64, 128])\n",
    "    rsa = RSA_OAEP(n_bits, m=m_bits)\n",
    "    \n",
    "    m = os.urandom(m_bits//8)\n",
    "    pbk, sk = rsa.gen_key()\n",
    "    c = rsa.encrypt_bytes(m, pbk)\n",
    "    assert m == rsa.decrypt_bytes(c, sk), \"RSA-OAEP not working! :C)\""
   ]
  },
  {
   "cell_type": "markdown",
   "metadata": {},
   "source": [
    "### Time tests"
   ]
  },
  {
   "cell_type": "code",
   "execution_count": 6,
   "metadata": {},
   "outputs": [],
   "source": [
    "m_arr = [64, 128, 256, 512, 1024, 1536]\n",
    "res_table = [[\"pq bits/m bits\", *[f\"{b}bits\" for b in m_arr]]]\n",
    "\n",
    "for prime_bits in [64, 128, 256, 512, 1024, 1536]:\n",
    "    res = [f\"{prime_bits}bits\"]\n",
    "    for m_bits in m_arr:\n",
    "        m = os.urandom(m_bits//8)\n",
    "        start = time.time()\n",
    "        rsa = RSA(prime_bits)\n",
    "\n",
    "        pbk, sk = rsa.gen_key()\n",
    "        try:\n",
    "            c = rsa.encrypt_bytes(m, pbk)\n",
    "        except AssertionError:\n",
    "            res.append(\"-\")\n",
    "            continue\n",
    "        assert m == rsa.decrypt_bytes(c, sk)\n",
    "        res.append(f\"{(time.time()-start):.2f}\")\n",
    "    res_table.append(res)"
   ]
  },
  {
   "cell_type": "code",
   "execution_count": 7,
   "metadata": {},
   "outputs": [
    {
     "name": "stdout",
     "output_type": "stream",
     "text": [
      "|----------------|--------|---------|---------|---------|----------|----------|\n",
      "| pq bits/m bits | 64bits | 128bits | 256bits | 512bits | 1024bits | 1536bits |\n",
      "| 64bits         | 0.00   | 0.00    | -       | -       | -        | -        |\n",
      "| 128bits        | 0.01   | 0.01    | -       | -       | -        | -        |\n",
      "| 256bits        | 0.03   | 0.03    | 0.01    | 0.03    | -        | -        |\n",
      "| 512bits        | 0.44   | 0.23    | 0.65    | 0.08    | -        | -        |\n",
      "| 1024bits       | 0.52   | 2.52    | 8.72    | 5.31    | 2.48     | 3.60     |\n",
      "| 1536bits       | 10.55  | 6.35    | 7.36    | 12.89   | 23.96    | 21.15    |\n"
     ]
    }
   ],
   "source": [
    "print(tabulate(res_table, tablefmt=\"github\"))"
   ]
  },
  {
   "cell_type": "code",
   "execution_count": 9,
   "metadata": {},
   "outputs": [],
   "source": [
    "m_arr = [64, 128, 256, 512, 1024, 1536]\n",
    "res_table = [[\"pq bits/m bits\", *[f\"{b}bits\" for b in m_arr]]]\n",
    "\n",
    "for prime_bits in [64, 128, 256, 512, 1024, 1536]:\n",
    "    res = [f\"{prime_bits}bits\"]\n",
    "    for m_bits in m_arr:\n",
    "        m = os.urandom(m_bits//8)\n",
    "        start = time.time()\n",
    "        rsa = RSA_OAEP(prime_bits, m=m_bits)\n",
    "\n",
    "        pbk, sk = rsa.gen_key()\n",
    "        try:\n",
    "            c = rsa.encrypt_bytes(m, pbk)\n",
    "        except AssertionError:\n",
    "            res.append(\"-\")\n",
    "            continue\n",
    "        assert m == rsa.decrypt_bytes(c, sk)\n",
    "        res.append(f\"{(time.time()-start):.2f}\")\n",
    "    res_table.append(res)"
   ]
  },
  {
   "cell_type": "code",
   "execution_count": 10,
   "metadata": {},
   "outputs": [
    {
     "name": "stdout",
     "output_type": "stream",
     "text": [
      "|----------------|--------|---------|---------|---------|----------|----------|\n",
      "| pq bits/m bits | 64bits | 128bits | 256bits | 512bits | 1024bits | 1536bits |\n",
      "| 64bits         | -      | -       | -       | -       | -        | -        |\n",
      "| 128bits        | -      | -       | -       | -       | -        | -        |\n",
      "| 256bits        | 0.03   | 0.01    | 0.01    | -       | -        | -        |\n",
      "| 512bits        | 0.08   | 0.63    | 0.36    | 0.43    | -        | -        |\n",
      "| 1024bits       | 2.90   | 6.95    | 1.93    | 1.81    | 2.22     | 2.29     |\n",
      "| 1536bits       | 6.11   | 9.99    | 15.14   | 20.38   | 18.73    | 11.06    |\n"
     ]
    }
   ],
   "source": [
    "print(tabulate(res_table, tablefmt=\"github\"))"
   ]
  },
  {
   "cell_type": "code",
   "execution_count": null,
   "metadata": {},
   "outputs": [],
   "source": []
  },
  {
   "cell_type": "code",
   "execution_count": null,
   "metadata": {},
   "outputs": [],
   "source": []
  }
 ],
 "metadata": {
  "kernelspec": {
   "display_name": "Python 3",
   "language": "python",
   "name": "python3"
  },
  "language_info": {
   "codemirror_mode": {
    "name": "ipython",
    "version": 3
   },
   "file_extension": ".py",
   "mimetype": "text/x-python",
   "name": "python",
   "nbconvert_exporter": "python",
   "pygments_lexer": "ipython3",
   "version": "3.7.4"
  }
 },
 "nbformat": 4,
 "nbformat_minor": 2
}
